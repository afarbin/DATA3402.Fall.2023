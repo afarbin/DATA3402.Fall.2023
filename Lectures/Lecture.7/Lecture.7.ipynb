{
 "cells": [
  {
   "cell_type": "markdown",
   "metadata": {},
   "source": [
    "# Lecture 7"
   ]
  },
  {
   "cell_type": "markdown",
   "metadata": {},
   "source": [
    "\n",
    "## Random Number Generator"
   ]
  },
  {
   "cell_type": "code",
   "execution_count": 18,
   "metadata": {},
   "outputs": [],
   "source": [
    "# Setup to make historgrams later...\n",
    "%matplotlib inline\n",
    "import matplotlib.pyplot as plt\n",
    "import numpy as np"
   ]
  },
  {
   "cell_type": "code",
   "execution_count": 19,
   "metadata": {},
   "outputs": [],
   "source": [
    "def uniform_generator(seed=123124.):\n",
    "    a=1111111\n",
    "    b=2222222\n",
    "    m=6700417 # This is a large prime number\n",
    "    x=seed\n",
    "    \n",
    "    def random():\n",
    "        nonlocal x\n",
    "        x=(a*x+b)%m\n",
    "        return x/m  # divide by m to set range to 0->1\n",
    "    \n",
    "    return random"
   ]
  },
  {
   "cell_type": "markdown",
   "metadata": {},
   "source": [
    "Quick side note: The use of `nonlocal`. In python, functions have their own local scope where references to variables created in the function are kept with the instance of the call to the function. The function has access to the scope from which it was defined as well as the global scope. When searching for a variable, python looks in the local scope first and works itself to the global scope. However, variable assignment causes a new variable within this local scope. Therefore in the in the case above, the assignment `x=(a*x+b)%m` will supercede `x=seed`. `nonlocal` tells python to use the variable in the previous scope."
   ]
  },
  {
   "cell_type": "code",
   "execution_count": 20,
   "metadata": {},
   "outputs": [],
   "source": [
    "my_uniform=uniform_generator()"
   ]
  },
  {
   "cell_type": "code",
   "execution_count": 21,
   "metadata": {},
   "outputs": [],
   "source": [
    "random_numbers=list()\n",
    "for _ in range(10):\n",
    "    random_numbers.append(my_uniform())"
   ]
  },
  {
   "cell_type": "code",
   "execution_count": 22,
   "metadata": {},
   "outputs": [
    {
     "data": {
      "text/plain": [
       "[0.6326616686692783,\n",
       " 0.6709910741376246,\n",
       " 0.8950304137787245,\n",
       " 0.46973837598465884,\n",
       " 0.8083329739029675,\n",
       " 0.9906205837636672,\n",
       " 0.7591005156843224,\n",
       " 0.26473680667934546,\n",
       " 0.30966057784164774,\n",
       " 0.6059604946975689]"
      ]
     },
     "execution_count": 22,
     "metadata": {},
     "output_type": "execute_result"
    }
   ],
   "source": [
    "random_numbers"
   ]
  },
  {
   "cell_type": "code",
   "execution_count": 6,
   "metadata": {},
   "outputs": [
    {
     "data": {
      "image/png": "[encoded data removed]",
      "text/plain": [
       "<Figure size 432x288 with 1 Axes>"
      ]
     },
     "metadata": {
      "needs_background": "light"
     },
     "output_type": "display_data"
    }
   ],
   "source": [
    "random_numbers=list()\n",
    "for _ in range(10000):\n",
    "    random_numbers.append(my_uniform())\n",
    "_=plt.hist(random_numbers,bins=10)"
   ]
  },
  {
   "cell_type": "markdown",
   "metadata": {},
   "source": [
    "## Exponential Generator"
   ]
  },
  {
   "cell_type": "code",
   "execution_count": 7,
   "metadata": {},
   "outputs": [],
   "source": [
    "import math\n",
    "\n",
    "def generate_exp(tau,seed=32144):\n",
    "    my_uniform=uniform_generator(seed)\n",
    "    \n",
    "    def generator():\n",
    "        nonlocal my_uniform\n",
    "        nonlocal tau\n",
    "        u = my_uniform()\n",
    "        return -tau*(math.log(1.-u))\n",
    "    \n",
    "    return generator"
   ]
  },
  {
   "cell_type": "code",
   "execution_count": 8,
   "metadata": {},
   "outputs": [],
   "source": [
    "my_exp_generator= generate_exp(10.)"
   ]
  },
  {
   "cell_type": "code",
   "execution_count": 9,
   "metadata": {},
   "outputs": [
    {
     "data": {
      "text/plain": [
       "11.372504436305544"
      ]
     },
     "execution_count": 9,
     "metadata": {},
     "output_type": "execute_result"
    }
   ],
   "source": [
    "my_exp_generator()"
   ]
  },
  {
   "cell_type": "code",
   "execution_count": 10,
   "metadata": {
    "scrolled": false
   },
   "outputs": [
    {
     "data": {
      "image/png": "[encoded data removed]",
      "text/plain": [
       "<Figure size 432x288 with 1 Axes>"
      ]
     },
     "metadata": {
      "needs_background": "light"
     },
     "output_type": "display_data"
    }
   ],
   "source": [
    "random_numbers=list()\n",
    "for _ in range(10000):\n",
    "    random_numbers.append(my_exp_generator())\n",
    "_=plt.hist(random_numbers,bins=25)"
   ]
  },
  {
   "cell_type": "markdown",
   "metadata": {},
   "source": [
    "## Scaling/Shifting\n",
    "\n",
    "First a note about lab 2: unless explicitly specified, don't use numpy. \n",
    "\n",
    "In the beginning of Lab 2 you are asked to take random numbers between 0 and 1 and scale and shift them to be between $x_{min}$ and $x_{max}$. The formula is pretty basic. If $x_0$ is between 0 and 1 then $x$ computed as:\n",
    "$$\n",
    "x= (x_{max}-x_{min}) x_0 + x_{min}\n",
    "$$\n",
    "will be between $x_{min}$ and $x_{max}$. \n",
    "\n",
    "In your solution, you'll most likely generate $x_0$ one by one, compute $x$, and store $x$ into a list to be returned from your function.\n"
   ]
  },
  {
   "cell_type": "markdown",
   "metadata": {},
   "source": [
    "## Mean/Variance\n",
    "\n",
    "Also for lab 2, remember the equations for mean/variance. If you have a data sample ${x_1, x_2, ..., x_N}$ the mean is:\n",
    "\n",
    "$$ \n",
    "\\bar{x} = \\frac{1}{N}\\sum_{i=1}^{N} x_i\n",
    "$$\n",
    "\n",
    "and the variance is:\n",
    "\n",
    "$$\n",
    "<x^2> = \\frac{1}{N-1} \\sum_{i=1}^{N} (x_i - \\bar{x})^2\n",
    "$$\n"
   ]
  },
  {
   "cell_type": "markdown",
   "metadata": {},
   "source": [
    "## Min, Max, ArgMin, ArgMax\n",
    "\n",
    "Consider a list of random numbers:"
   ]
  },
  {
   "cell_type": "code",
   "execution_count": 11,
   "metadata": {},
   "outputs": [],
   "source": [
    "import random\n",
    "data = [random.random() for _ in range(100)]"
   ]
  },
  {
   "cell_type": "code",
   "execution_count": 11,
   "metadata": {
    "scrolled": true
   },
   "outputs": [
    {
     "data": {
      "text/plain": [
       "[0.38508508638878414,\n",
       " 0.044512115811329855,\n",
       " 0.6784910941565064,\n",
       " 0.8211404716351355,\n",
       " 0.9889537300315593,\n",
       " 0.18942040472647315,\n",
       " 0.10343522070468925,\n",
       " 0.35108928531232375,\n",
       " 0.7816242395000221,\n",
       " 0.7846872524763615,\n",
       " 0.2541169237859604,\n",
       " 0.3181374739874476,\n",
       " 0.19490419188831165,\n",
       " 0.3636426607321954,\n",
       " 0.44256690331427617,\n",
       " 0.9614426578084597,\n",
       " 0.17792444696933907,\n",
       " 0.7735465208069489,\n",
       " 0.5151605947796156,\n",
       " 0.37485002460440753,\n",
       " 0.21698972785922932,\n",
       " 0.49256834171432307,\n",
       " 0.9208801561704218,\n",
       " 0.34623882617966273,\n",
       " 0.1969505138040264,\n",
       " 0.9525739316119796,\n",
       " 0.02169619794820221,\n",
       " 0.08642923813729853,\n",
       " 0.39532454838830156,\n",
       " 0.04573396551325348,\n",
       " 0.9092267743895986,\n",
       " 0.9369410927840981,\n",
       " 0.29367575269328094,\n",
       " 0.5747202449099443,\n",
       " 0.6187811575850622,\n",
       " 0.11381314583704094,\n",
       " 0.2096736187349184,\n",
       " 0.5887629121237368,\n",
       " 0.10412908902895934,\n",
       " 0.21403349912230463,\n",
       " 0.042600709430877126,\n",
       " 0.6538258156608732,\n",
       " 0.43265245549222153,\n",
       " 0.2595552693411769,\n",
       " 0.988211707216703,\n",
       " 0.12100186570632632,\n",
       " 0.41632579683326,\n",
       " 0.8227074673825865,\n",
       " 0.22544815295830545,\n",
       " 0.1525562020006258,\n",
       " 0.3579186136794664,\n",
       " 0.8134121567882419,\n",
       " 0.7962767233330095,\n",
       " 0.9020603321438366,\n",
       " 0.6251967196019305,\n",
       " 0.6149893534563355,\n",
       " 0.8047913294257072,\n",
       " 0.752270613815079,\n",
       " 0.9324510909660507,\n",
       " 0.018388500471427704,\n",
       " 0.9419098497388019,\n",
       " 0.6230053673778804,\n",
       " 0.40164130671648657,\n",
       " 0.7472542031450736,\n",
       " 0.9067083352969179,\n",
       " 0.5490164725281066,\n",
       " 0.08678669749881862,\n",
       " 0.7402901459775347,\n",
       " 0.35553453455660056,\n",
       " 0.018740739895437564,\n",
       " 0.4277228040280986,\n",
       " 0.43838207505537463,\n",
       " 0.05193996903713427,\n",
       " 0.41960980592809105,\n",
       " 0.2718164493609285,\n",
       " 0.9522599028694323,\n",
       " 0.0850181598052766,\n",
       " 0.44681886775663715,\n",
       " 0.6948075084924598,\n",
       " 0.13123945541193915,\n",
       " 0.5023956930100513,\n",
       " 0.43136370127836876,\n",
       " 0.2828233994869501,\n",
       " 0.7668018423068892,\n",
       " 0.4831681853891987,\n",
       " 0.342659075884999,\n",
       " 0.11771427929726308,\n",
       " 0.05830376461505615,\n",
       " 0.8285156509123076,\n",
       " 0.052416193765433494,\n",
       " 0.025811629105640055,\n",
       " 0.9147903777781534,\n",
       " 0.7746668266599684,\n",
       " 0.5091172040198069,\n",
       " 0.7413973719619412,\n",
       " 0.1528465674910353,\n",
       " 0.014573307805392344,\n",
       " 0.16995045658182606,\n",
       " 0.8640449207556204,\n",
       " 0.8970829492656889]"
      ]
     },
     "execution_count": 11,
     "metadata": {},
     "output_type": "execute_result"
    }
   ],
   "source": [
    "data"
   ]
  },
  {
   "cell_type": "markdown",
   "metadata": {},
   "source": [
    "You find the largest and smallest numbers in the list:"
   ]
  },
  {
   "cell_type": "code",
   "execution_count": 12,
   "metadata": {},
   "outputs": [
    {
     "data": {
      "text/plain": [
       "(0.9988991392870697, 0.005757379500982318)"
      ]
     },
     "execution_count": 12,
     "metadata": {},
     "output_type": "execute_result"
    }
   ],
   "source": [
    "max(data),min(data)"
   ]
  },
  {
   "cell_type": "markdown",
   "metadata": {},
   "source": [
    "It is convenient that `max` and `min` are available in python, but let's think about how we would implement one of these functions:"
   ]
  },
  {
   "cell_type": "code",
   "execution_count": 14,
   "metadata": {},
   "outputs": [],
   "source": [
    "def find_max(d):\n",
    "    a_max=d[0]\n",
    "    for e in d:\n",
    "        if e>a_max:\n",
    "            a_max=e\n",
    "    return a_max"
   ]
  },
  {
   "cell_type": "code",
   "execution_count": 15,
   "metadata": {},
   "outputs": [
    {
     "data": {
      "text/plain": [
       "0.9988991392870697"
      ]
     },
     "execution_count": 15,
     "metadata": {},
     "output_type": "execute_result"
    }
   ],
   "source": [
    "find_max(data)"
   ]
  },
  {
   "cell_type": "markdown",
   "metadata": {},
   "source": [
    "While `max` gives us the largest value, we may instead be interested to know which element in the list is the largest (i.e. what is the index of the largest value)... this is where `argmax` comes in:"
   ]
  },
  {
   "cell_type": "code",
   "execution_count": 18,
   "metadata": {},
   "outputs": [
    {
     "name": "stdout",
     "output_type": "stream",
     "text": [
      "(56, 0.9988991392870697)\n"
     ]
    }
   ],
   "source": [
    "def argmax_1(d):\n",
    "    a_max = d[0]\n",
    "    i_max = 0\n",
    "    for i in range(len(d)):\n",
    "        if d[i] > a_max:\n",
    "            a_max = d[i]\n",
    "            i_max = i\n",
    "    return i_max, a_max\n",
    "\n",
    "\n",
    "print(argmax_1(data))\n",
    "            "
   ]
  },
  {
   "cell_type": "code",
   "execution_count": 19,
   "metadata": {},
   "outputs": [],
   "source": [
    "def find_argmax(d):\n",
    "    a_max=d[0]\n",
    "    i_max=0\n",
    "    for i,e in enumerate(d):\n",
    "        if e > a_max:\n",
    "            a_max=e\n",
    "            i_max=i\n",
    "    return i_max"
   ]
  },
  {
   "cell_type": "code",
   "execution_count": 20,
   "metadata": {},
   "outputs": [
    {
     "data": {
      "text/plain": [
       "56"
      ]
     },
     "execution_count": 20,
     "metadata": {},
     "output_type": "execute_result"
    }
   ],
   "source": [
    "find_argmax(data)"
   ]
  },
  {
   "cell_type": "markdown",
   "metadata": {},
   "source": [
    "## Numerical Manipulation of Mathematical Functions \n",
    "\n",
    "Recall that we can easily make a list of sequential intergers using `range`."
   ]
  },
  {
   "cell_type": "code",
   "execution_count": 24,
   "metadata": {},
   "outputs": [
    {
     "data": {
      "text/plain": [
       "[5, 8, 11, 14, 17]"
      ]
     },
     "execution_count": 24,
     "metadata": {},
     "output_type": "execute_result"
    }
   ],
   "source": [
    "list(range(5,20,3))"
   ]
  },
  {
   "cell_type": "markdown",
   "metadata": {},
   "source": [
    "What if we wanted to do something similar but with non-intergers, for example in step size of 1/2:"
   ]
  },
  {
   "cell_type": "code",
   "execution_count": 25,
   "metadata": {},
   "outputs": [
    {
     "ename": "TypeError",
     "evalue": "'float' object cannot be interpreted as an integer",
     "output_type": "error",
     "traceback": [
      "\u001b[0;31m---------------------------------------------------------------------------\u001b[0m",
      "\u001b[0;31mTypeError\u001b[0m                                 Traceback (most recent call last)",
      "Input \u001b[0;32mIn [25]\u001b[0m, in \u001b[0;36m<cell line: 1>\u001b[0;34m()\u001b[0m\n\u001b[0;32m----> 1\u001b[0m \u001b[38;5;28mlist\u001b[39m(\u001b[38;5;28;43mrange\u001b[39;49m\u001b[43m(\u001b[49m\u001b[38;5;241;43m5.\u001b[39;49m\u001b[43m,\u001b[49m\u001b[38;5;241;43m20.\u001b[39;49m\u001b[43m,\u001b[49m\u001b[38;5;241;43m.5\u001b[39;49m\u001b[43m)\u001b[49m)\n",
      "\u001b[0;31mTypeError\u001b[0m: 'float' object cannot be interpreted as an integer"
     ]
    }
   ],
   "source": [
    "list(range(5.,20.,.5))"
   ]
  },
  {
   "cell_type": "markdown",
   "metadata": {},
   "source": [
    "Let's implement what we need:"
   ]
  },
  {
   "cell_type": "code",
   "execution_count": 26,
   "metadata": {},
   "outputs": [],
   "source": [
    "def arange(x_min,x_max,step_size=1.):\n",
    "    if step_size >= 0 and x_max<x_min:\n",
    "        return list()\n",
    "    \n",
    "    if step_size < 0 and x_max>x_min:\n",
    "        return list()\n",
    "    \n",
    "    x=x_min\n",
    "    out = list()\n",
    "    while x<x_max:\n",
    "        out.append(x)\n",
    "        x+=step_size\n",
    "    return out"
   ]
  },
  {
   "cell_type": "code",
   "execution_count": 27,
   "metadata": {
    "scrolled": true
   },
   "outputs": [
    {
     "data": {
      "text/plain": [
       "[5.0,\n",
       " 5.5,\n",
       " 6.0,\n",
       " 6.5,\n",
       " 7.0,\n",
       " 7.5,\n",
       " 8.0,\n",
       " 8.5,\n",
       " 9.0,\n",
       " 9.5,\n",
       " 10.0,\n",
       " 10.5,\n",
       " 11.0,\n",
       " 11.5,\n",
       " 12.0,\n",
       " 12.5,\n",
       " 13.0,\n",
       " 13.5,\n",
       " 14.0,\n",
       " 14.5,\n",
       " 15.0,\n",
       " 15.5,\n",
       " 16.0,\n",
       " 16.5,\n",
       " 17.0,\n",
       " 17.5,\n",
       " 18.0,\n",
       " 18.5,\n",
       " 19.0,\n",
       " 19.5]"
      ]
     },
     "execution_count": 27,
     "metadata": {},
     "output_type": "execute_result"
    }
   ],
   "source": [
    "arange(5.,20.,.5)"
   ]
  },
  {
   "cell_type": "markdown",
   "metadata": {},
   "source": [
    "An alternative similar function is:"
   ]
  },
  {
   "cell_type": "code",
   "execution_count": 28,
   "metadata": {},
   "outputs": [],
   "source": [
    "def linspace(x_min,x_max,steps=10):\n",
    "    step_size=(x_max-x_min)/steps\n",
    "    x=x_min\n",
    "    out = list()\n",
    "    for i in range(steps):\n",
    "        out.append(x)\n",
    "        x+=step_size\n",
    "    return out"
   ]
  },
  {
   "cell_type": "code",
   "execution_count": 29,
   "metadata": {},
   "outputs": [
    {
     "data": {
      "text/plain": [
       "[5.0, 6.5, 8.0, 9.5, 11.0, 12.5, 14.0, 15.5, 17.0, 18.5]"
      ]
     },
     "execution_count": 29,
     "metadata": {},
     "output_type": "execute_result"
    }
   ],
   "source": [
    "linspace(5.,20.,10)"
   ]
  },
  {
   "cell_type": "code",
   "execution_count": 30,
   "metadata": {},
   "outputs": [
    {
     "data": {
      "text/plain": [
       "[5.0, 4.5, 4.0, 3.5, 3.0, 2.5, 2.0, 1.5, 1.0, 0.5]"
      ]
     },
     "execution_count": 30,
     "metadata": {},
     "output_type": "execute_result"
    }
   ],
   "source": [
    "linspace(5.,0.,10)"
   ]
  },
  {
   "cell_type": "markdown",
   "metadata": {},
   "source": [
    "Now lets use what we wrote to investigate a mathematical function:"
   ]
  },
  {
   "cell_type": "code",
   "execution_count": 31,
   "metadata": {},
   "outputs": [],
   "source": [
    "def a_function(x):\n",
    "    return (1+x)**2"
   ]
  },
  {
   "cell_type": "code",
   "execution_count": 38,
   "metadata": {},
   "outputs": [
    {
     "name": "stdout",
     "output_type": "stream",
     "text": [
      "[-5.0, -4.9, -4.800000000000001, -4.700000000000001, -4.600000000000001, -4.500000000000002, -4.400000000000002, -4.3000000000000025, -4.200000000000003, -4.100000000000003, -4.0000000000000036, -3.9000000000000035, -3.8000000000000034, -3.7000000000000033, -3.600000000000003, -3.500000000000003, -3.400000000000003, -3.300000000000003, -3.200000000000003, -3.1000000000000028, -3.0000000000000027, -2.9000000000000026, -2.8000000000000025, -2.7000000000000024, -2.6000000000000023, -2.500000000000002, -2.400000000000002, -2.300000000000002, -2.200000000000002, -2.100000000000002, -2.0000000000000018, -1.9000000000000017, -1.8000000000000016, -1.7000000000000015, -1.6000000000000014, -1.5000000000000013, -1.4000000000000012, -1.3000000000000012, -1.200000000000001, -1.100000000000001, -1.0000000000000009, -0.9000000000000009, -0.8000000000000009, -0.700000000000001, -0.600000000000001, -0.500000000000001, -0.400000000000001, -0.30000000000000104, -0.20000000000000104, -0.10000000000000103, -1.0269562977782698e-15, 0.09999999999999898, 0.19999999999999898, 0.299999999999999, 0.399999999999999, 0.499999999999999, 0.599999999999999, 0.699999999999999, 0.7999999999999989, 0.8999999999999989, 0.9999999999999989, 1.099999999999999, 1.199999999999999, 1.2999999999999992, 1.3999999999999992, 1.4999999999999993, 1.5999999999999994, 1.6999999999999995, 1.7999999999999996, 1.8999999999999997, 1.9999999999999998, 2.0999999999999996, 2.1999999999999997, 2.3, 2.4, 2.5, 2.6, 2.7, 2.8000000000000003, 2.9000000000000004, 3.0000000000000004, 3.1000000000000005, 3.2000000000000006, 3.3000000000000007, 3.400000000000001, 3.500000000000001, 3.600000000000001, 3.700000000000001, 3.800000000000001, 3.9000000000000012, 4.000000000000001, 4.1000000000000005, 4.2, 4.3, 4.3999999999999995, 4.499999999999999, 4.599999999999999, 4.699999999999998, 4.799999999999998, 4.899999999999998, 4.999999999999997]\n"
     ]
    }
   ],
   "source": [
    "x_vals = arange(-5.,5.,0.1)\n",
    "print(x_vals)"
   ]
  },
  {
   "cell_type": "markdown",
   "metadata": {},
   "source": [
    "3 ways to do the same thing:"
   ]
  },
  {
   "cell_type": "code",
   "execution_count": 33,
   "metadata": {},
   "outputs": [],
   "source": [
    "y_vals = [a_function(x) for x in x_vals]"
   ]
  },
  {
   "cell_type": "code",
   "execution_count": 39,
   "metadata": {},
   "outputs": [
    {
     "name": "stdout",
     "output_type": "stream",
     "text": [
      "[16.0, 15.210000000000003, 14.440000000000005, 13.690000000000008, 12.96000000000001, 12.250000000000012, 11.560000000000015, 10.890000000000017, 10.240000000000018, 9.610000000000019, 9.000000000000021, 8.41000000000002, 7.8400000000000185, 7.290000000000018, 6.760000000000017, 6.250000000000015, 5.760000000000015, 5.290000000000013, 4.840000000000012, 4.410000000000012, 4.000000000000011, 3.6100000000000096, 3.240000000000009, 2.890000000000008, 2.5600000000000076, 2.2500000000000067, 1.960000000000006, 1.6900000000000053, 1.4400000000000046, 1.2100000000000042, 1.0000000000000036, 0.810000000000003, 0.6400000000000026, 0.4900000000000021, 0.3600000000000017, 0.25000000000000133, 0.160000000000001, 0.09000000000000069, 0.040000000000000424, 0.010000000000000196, 7.888609052210118e-31, 0.009999999999999818, 0.039999999999999626, 0.08999999999999943, 0.15999999999999923, 0.249999999999999, 0.35999999999999877, 0.48999999999999855, 0.6399999999999983, 0.8099999999999983, 0.999999999999998, 1.2099999999999977, 1.4399999999999977, 1.6899999999999973, 1.9599999999999973, 2.2499999999999973, 2.559999999999997, 2.889999999999996, 3.239999999999996, 3.6099999999999963, 3.9999999999999956, 4.409999999999995, 4.839999999999997, 5.289999999999995, 5.759999999999997, 6.249999999999996, 6.759999999999998, 7.2899999999999965, 7.839999999999999, 8.409999999999997, 9.0, 9.609999999999998, 10.239999999999998, 10.889999999999999, 11.559999999999999, 12.25, 12.96, 13.690000000000001, 14.440000000000001, 15.210000000000003, 16.0, 16.810000000000006, 17.640000000000008, 18.490000000000006, 19.360000000000003, 20.250000000000007, 21.160000000000014, 22.09000000000001, 23.040000000000006, 24.010000000000012, 25.00000000000001, 26.010000000000005, 27.040000000000003, 28.09, 29.159999999999993, 30.24999999999999, 31.359999999999985, 32.48999999999998, 33.63999999999998, 34.809999999999974, 35.99999999999997]\n"
     ]
    }
   ],
   "source": [
    "y_vals = list(map(a_function,x_vals))\n",
    "print(y_vals)"
   ]
  },
  {
   "cell_type": "code",
   "execution_count": 35,
   "metadata": {},
   "outputs": [],
   "source": [
    "y_vals = list()\n",
    "for x in x_vals:\n",
    "    y_vals.append(a_function(x))"
   ]
  },
  {
   "cell_type": "code",
   "execution_count": 36,
   "metadata": {},
   "outputs": [
    {
     "data": {
      "text/plain": [
       "[<matplotlib.lines.Line2D at 0x7f1874f07bb0>]"
      ]
     },
     "execution_count": 36,
     "metadata": {},
     "output_type": "execute_result"
    },
    {
     "data": {
      "image/png": "[encoded data removed]",
      "text/plain": [
       "<Figure size 432x288 with 1 Axes>"
      ]
     },
     "metadata": {
      "needs_background": "light"
     },
     "output_type": "display_data"
    }
   ],
   "source": [
    "plt.plot(x_vals,y_vals)"
   ]
  },
  {
   "cell_type": "code",
   "execution_count": 40,
   "metadata": {
    "scrolled": true
   },
   "outputs": [
    {
     "data": {
      "text/plain": [
       "[(-5.0, 16.0),\n",
       " (-4.9, 15.210000000000003),\n",
       " (-4.800000000000001, 14.440000000000005),\n",
       " (-4.700000000000001, 13.690000000000008),\n",
       " (-4.600000000000001, 12.96000000000001),\n",
       " (-4.500000000000002, 12.250000000000012),\n",
       " (-4.400000000000002, 11.560000000000015),\n",
       " (-4.3000000000000025, 10.890000000000017),\n",
       " (-4.200000000000003, 10.240000000000018),\n",
       " (-4.100000000000003, 9.610000000000019),\n",
       " (-4.0000000000000036, 9.000000000000021),\n",
       " (-3.9000000000000035, 8.41000000000002),\n",
       " (-3.8000000000000034, 7.8400000000000185),\n",
       " (-3.7000000000000033, 7.290000000000018),\n",
       " (-3.600000000000003, 6.760000000000017),\n",
       " (-3.500000000000003, 6.250000000000015),\n",
       " (-3.400000000000003, 5.760000000000015),\n",
       " (-3.300000000000003, 5.290000000000013),\n",
       " (-3.200000000000003, 4.840000000000012),\n",
       " (-3.1000000000000028, 4.410000000000012),\n",
       " (-3.0000000000000027, 4.000000000000011),\n",
       " (-2.9000000000000026, 3.6100000000000096),\n",
       " (-2.8000000000000025, 3.240000000000009),\n",
       " (-2.7000000000000024, 2.890000000000008),\n",
       " (-2.6000000000000023, 2.5600000000000076),\n",
       " (-2.500000000000002, 2.2500000000000067),\n",
       " (-2.400000000000002, 1.960000000000006),\n",
       " (-2.300000000000002, 1.6900000000000053),\n",
       " (-2.200000000000002, 1.4400000000000046),\n",
       " (-2.100000000000002, 1.2100000000000042),\n",
       " (-2.0000000000000018, 1.0000000000000036),\n",
       " (-1.9000000000000017, 0.810000000000003),\n",
       " (-1.8000000000000016, 0.6400000000000026),\n",
       " (-1.7000000000000015, 0.4900000000000021),\n",
       " (-1.6000000000000014, 0.3600000000000017),\n",
       " (-1.5000000000000013, 0.25000000000000133),\n",
       " (-1.4000000000000012, 0.160000000000001),\n",
       " (-1.3000000000000012, 0.09000000000000069),\n",
       " (-1.200000000000001, 0.040000000000000424),\n",
       " (-1.100000000000001, 0.010000000000000196),\n",
       " (-1.0000000000000009, 7.888609052210118e-31),\n",
       " (-0.9000000000000009, 0.009999999999999818),\n",
       " (-0.8000000000000009, 0.039999999999999626),\n",
       " (-0.700000000000001, 0.08999999999999943),\n",
       " (-0.600000000000001, 0.15999999999999923),\n",
       " (-0.500000000000001, 0.249999999999999),\n",
       " (-0.400000000000001, 0.35999999999999877),\n",
       " (-0.30000000000000104, 0.48999999999999855),\n",
       " (-0.20000000000000104, 0.6399999999999983),\n",
       " (-0.10000000000000103, 0.8099999999999983),\n",
       " (-1.0269562977782698e-15, 0.999999999999998),\n",
       " (0.09999999999999898, 1.2099999999999977),\n",
       " (0.19999999999999898, 1.4399999999999977),\n",
       " (0.299999999999999, 1.6899999999999973),\n",
       " (0.399999999999999, 1.9599999999999973),\n",
       " (0.499999999999999, 2.2499999999999973),\n",
       " (0.599999999999999, 2.559999999999997),\n",
       " (0.699999999999999, 2.889999999999996),\n",
       " (0.7999999999999989, 3.239999999999996),\n",
       " (0.8999999999999989, 3.6099999999999963),\n",
       " (0.9999999999999989, 3.9999999999999956),\n",
       " (1.099999999999999, 4.409999999999995),\n",
       " (1.199999999999999, 4.839999999999997),\n",
       " (1.2999999999999992, 5.289999999999995),\n",
       " (1.3999999999999992, 5.759999999999997),\n",
       " (1.4999999999999993, 6.249999999999996),\n",
       " (1.5999999999999994, 6.759999999999998),\n",
       " (1.6999999999999995, 7.2899999999999965),\n",
       " (1.7999999999999996, 7.839999999999999),\n",
       " (1.8999999999999997, 8.409999999999997),\n",
       " (1.9999999999999998, 9.0),\n",
       " (2.0999999999999996, 9.609999999999998),\n",
       " (2.1999999999999997, 10.239999999999998),\n",
       " (2.3, 10.889999999999999),\n",
       " (2.4, 11.559999999999999),\n",
       " (2.5, 12.25),\n",
       " (2.6, 12.96),\n",
       " (2.7, 13.690000000000001),\n",
       " (2.8000000000000003, 14.440000000000001),\n",
       " (2.9000000000000004, 15.210000000000003),\n",
       " (3.0000000000000004, 16.0),\n",
       " (3.1000000000000005, 16.810000000000006),\n",
       " (3.2000000000000006, 17.640000000000008),\n",
       " (3.3000000000000007, 18.490000000000006),\n",
       " (3.400000000000001, 19.360000000000003),\n",
       " (3.500000000000001, 20.250000000000007),\n",
       " (3.600000000000001, 21.160000000000014),\n",
       " (3.700000000000001, 22.09000000000001),\n",
       " (3.800000000000001, 23.040000000000006),\n",
       " (3.9000000000000012, 24.010000000000012),\n",
       " (4.000000000000001, 25.00000000000001),\n",
       " (4.1000000000000005, 26.010000000000005),\n",
       " (4.2, 27.040000000000003),\n",
       " (4.3, 28.09),\n",
       " (4.3999999999999995, 29.159999999999993),\n",
       " (4.499999999999999, 30.24999999999999),\n",
       " (4.599999999999999, 31.359999999999985),\n",
       " (4.699999999999998, 32.48999999999998),\n",
       " (4.799999999999998, 33.63999999999998),\n",
       " (4.899999999999998, 34.809999999999974),\n",
       " (4.999999999999997, 35.99999999999997)]"
      ]
     },
     "execution_count": 40,
     "metadata": {},
     "output_type": "execute_result"
    }
   ],
   "source": [
    "list(zip(x_vals,y_vals))"
   ]
  },
  {
   "cell_type": "markdown",
   "metadata": {},
   "source": [
    "How about a python function that finds the minumum of a mathematical function:"
   ]
  },
  {
   "cell_type": "code",
   "execution_count": 42,
   "metadata": {},
   "outputs": [],
   "source": [
    "def a_function(x):\n",
    "    return (1+x)**2\n",
    "\n",
    "def find_min_0(f,x_min,x_max,steps=10):\n",
    "    \n",
    "    step_size=(x_max-x_min)/steps\n",
    "    x=x_min\n",
    "    y_min=f(x_min)\n",
    "    x_min_val=x_min\n",
    "\n",
    "    for i in range(steps):\n",
    "        y=f(x)\n",
    "        if y<y_min:\n",
    "            x_min_val=x\n",
    "            y_min=y\n",
    "        x+=step_size\n",
    "    \n",
    "    return x_min_val"
   ]
  },
  {
   "cell_type": "code",
   "execution_count": 43,
   "metadata": {},
   "outputs": [
    {
     "data": {
      "text/plain": [
       "-1.000000000000002"
      ]
     },
     "execution_count": 43,
     "metadata": {},
     "output_type": "execute_result"
    }
   ],
   "source": [
    "find_min_0(a_function,-10,10,100)"
   ]
  },
  {
   "cell_type": "markdown",
   "metadata": {},
   "source": [
    "## Functional Programming\n",
    "\n",
    "In lab 1 you built a tic-tac-toe game by implementing a series of functions that performed various tasks, which you then combined in various ways to implement the game logic. What you wrote was a *structured program*, which consist of sequences of instructions, utilizing control flow (if/then/else), repetition (while and for), block structures, and function calls. \n",
    "\n",
    "*Functional Programming* is another style of programming that is not well suited to writing games, but is well suited to manipulating data. A functional program performs computation by evaluating mathematical functions, where the output only depend on the input. Data passes through as inputs/outputs of functions, but is otherwise never changed. This paradigm is often used in data science because manipulation of data can othen be viewed as composition of functions:\n",
    "\n",
    "$$\n",
    "D_{result} = f_n(f_{n-1}(...(f_0(D_{input}))))\n",
    "$$\n"
   ]
  },
  {
   "cell_type": "markdown",
   "metadata": {},
   "source": [
    "Lets write the function minimizer in a more functional way by realizing that we can perform the same task as a set of composition of functions:"
   ]
  },
  {
   "cell_type": "code",
   "execution_count": 45,
   "metadata": {},
   "outputs": [],
   "source": [
    "def linspace(x_min,x_max,steps=10):\n",
    "    x=x_min\n",
    "    step_size=(x_max-x_min)/steps\n",
    "    out=list()\n",
    "    while x<x_max:\n",
    "        out.append(x)\n",
    "        x+=step_size\n",
    "    return out\n",
    "\n",
    "def arg_min(lst):\n",
    "    min_val=lst[0]\n",
    "    min_index=0\n",
    "    for i,val in enumerate(lst):\n",
    "        if val<min_val:\n",
    "            min_val=val\n",
    "            min_index=i\n",
    "            \n",
    "    return min_index\n"
   ]
  },
  {
   "cell_type": "markdown",
   "metadata": {},
   "source": [
    "Note that `find_min` can be as a single evaluation:"
   ]
  },
  {
   "cell_type": "code",
   "execution_count": 46,
   "metadata": {},
   "outputs": [],
   "source": [
    "def find_min_0(f,x_min,x_max,steps=100):\n",
    "    x_vals=linspace(x_min,x_max,steps)\n",
    "    y_vals=list(map(f,x_vals))\n",
    "    index=arg_min(y_vals)\n",
    "    return x_vals[index]\n",
    "\n",
    "# Same thing... all in one line.\n",
    "def find_min(f,x_min,x_max,steps=100):\n",
    "    return linspace(x_min,x_max,steps)[arg_min(list(map(f,linspace(x_min,x_max,steps))))]\n"
   ]
  },
  {
   "cell_type": "code",
   "execution_count": 47,
   "metadata": {},
   "outputs": [
    {
     "data": {
      "text/plain": [
       "-1.000000000000002"
      ]
     },
     "execution_count": 47,
     "metadata": {},
     "output_type": "execute_result"
    }
   ],
   "source": [
    "find_min_0(a_function,-10.,10.,100)"
   ]
  },
  {
   "cell_type": "markdown",
   "metadata": {},
   "source": [
    "We could have implemented `a_range` and `arg_min` the same way, but instead of while loops use recursion:"
   ]
  },
  {
   "cell_type": "code",
   "execution_count": 36,
   "metadata": {},
   "outputs": [],
   "source": [
    "def a_range(x_min,x_max,steps=10):\n",
    "    if steps>1:\n",
    "        return [x_min] + a_range(x_min+((x_max-x_min)/steps),x_max,steps-1)\n",
    "    else:\n",
    "        return [x_min]\n",
    "        "
   ]
  },
  {
   "cell_type": "markdown",
   "metadata": {},
   "source": [
    "We are not going to write functions this way, but the idea is to get familiar with seeing data manipulations as a composition of functions."
   ]
  },
  {
   "cell_type": "markdown",
   "metadata": {},
   "source": [
    "# Histograms"
   ]
  },
  {
   "cell_type": "code",
   "execution_count": 49,
   "metadata": {},
   "outputs": [
    {
     "name": "stdout",
     "output_type": "stream",
     "text": [
      "[13.919307187321008, 11.721370419195399, 9.794665740901312, 14.59203084682628, 10.204706553630544, 14.096963748910339, 7.472194081266275, 12.517361258821747, 8.616711483749508, 14.704341980142647, 12.993017036074985, 14.059846256184068, 10.923918677569908, 11.844904220975517, 13.352439197125436, 10.446262890191312, 8.122854539384326, 5.129993338996757, 12.38669350386403, 13.114114906349888, 14.341924296339238, 13.215846763521386, 11.00765676662642, 6.885228318224634, 9.42107553827036, 14.083591184417307, 8.630802907777793, 10.87715966319017, 8.055459079769397, 13.780383236259544, 14.79797156672174, 5.375207364246527, 12.495903195643685, 12.034867855180316, 5.624468388775098, 12.789166871897441, 7.584996089316603, 6.719051022016764, 5.092287438894902, 9.093181512002056, 14.126471404653465, 7.376792633048643, 11.84431985162934, 6.145054000124764, 10.31839735385556, 7.181448698856455, 13.16846718608717, 12.303689625585001, 9.524042299297495, 14.602428446633686, 12.231430000182982, 13.727843949510648, 11.18254625800309, 13.082333788131669, 9.924432195301865, 5.885485688714542, 6.951963790279484, 13.638208487483691, 5.3037080171133235, 11.06031200409695, 14.87502036074226, 11.513880303943036, 7.295254109676097, 8.798247156087424, 6.494623065262988, 5.572972856581173, 14.790398285226425, 9.67893036774537, 7.083056122983988, 5.166763862031269, 6.017301152544564, 8.445076769008448, 13.691207724652333, 11.88728195918219, 12.898963016173429, 11.233070887265814, 13.359326883672965, 5.36115112815121, 6.90326250369014, 5.840270643759985, 11.690375032167132, 7.896116920475309, 6.588248079515186, 6.149479692201422, 13.59111946654956, 9.86845043807353, 6.151208848579323, 10.057028407802981, 9.109730733625963, 12.131099625185616, 14.503014641066498, 14.265922839980668, 8.663566908449075, 11.031681347163417, 13.670702835317313, 8.732217335414306, 12.484837228765148, 11.777230163986683, 6.8414011423105485, 14.4646244867821]\n"
     ]
    }
   ],
   "source": [
    "# Quickly make a list of 100 numbers between 5 and 15.\n",
    "data_0=(10*np.random.random(100)+5.).tolist()\n",
    "print(data_0)"
   ]
  },
  {
   "cell_type": "code",
   "execution_count": 51,
   "metadata": {},
   "outputs": [],
   "source": [
    "# Or a normal distribution at 10 with sigma 2.5\n",
    "data_1=np.random.normal(10,2.5,1000)"
   ]
  },
  {
   "cell_type": "code",
   "execution_count": 52,
   "metadata": {},
   "outputs": [
    {
     "data": {
      "text/plain": [
       "(array([100]), array([ 5.09228744, 14.87502036]))"
      ]
     },
     "execution_count": 52,
     "metadata": {},
     "output_type": "execute_result"
    }
   ],
   "source": [
    "np.histogram(data_0,bins=1)"
   ]
  },
  {
   "cell_type": "code",
   "execution_count": 53,
   "metadata": {},
   "outputs": [
    {
     "name": "stdout",
     "output_type": "stream",
     "text": [
      "5.092287438894902 14.87502036074226\n"
     ]
    }
   ],
   "source": [
    "print(min(data_0),max(data_0))"
   ]
  },
  {
   "cell_type": "code",
   "execution_count": 54,
   "metadata": {},
   "outputs": [
    {
     "data": {
      "text/plain": [
       "(array([44, 56]), array([ 5.09228744,  9.9836539 , 14.87502036]))"
      ]
     },
     "execution_count": 54,
     "metadata": {},
     "output_type": "execute_result"
    }
   ],
   "source": [
    "np.histogram(data_0,bins=2)"
   ]
  },
  {
   "cell_type": "code",
   "execution_count": 55,
   "metadata": {},
   "outputs": [
    {
     "data": {
      "text/plain": [
       "(array([30, 26, 44]),\n",
       " array([ 5.09228744,  8.35319841, 11.61410939, 14.87502036]))"
      ]
     },
     "execution_count": 55,
     "metadata": {},
     "output_type": "execute_result"
    }
   ],
   "source": [
    "np.histogram(data_0,bins=3)"
   ]
  },
  {
   "cell_type": "code",
   "execution_count": 56,
   "metadata": {},
   "outputs": [
    {
     "data": {
      "text/plain": [
       "(array([30., 26., 44.]),\n",
       " array([ 5.09228744,  8.35319841, 11.61410939, 14.87502036]),\n",
       " <BarContainer object of 3 artists>)"
      ]
     },
     "execution_count": 56,
     "metadata": {},
     "output_type": "execute_result"
    },
    {
     "data": {
      "image/png": "[encoded data removed]",
      "text/plain": [
       "<Figure size 432x288 with 1 Axes>"
      ]
     },
     "metadata": {
      "needs_background": "light"
     },
     "output_type": "display_data"
    }
   ],
   "source": [
    "plt.hist(data_0,bins=3)"
   ]
  },
  {
   "cell_type": "code",
   "execution_count": 57,
   "metadata": {},
   "outputs": [
    {
     "data": {
      "text/plain": [
       "(array([  2.,  15.,  60., 133., 210., 236., 191.,  99.,  44.,  10.]),\n",
       " array([ 1.63028709,  3.18621166,  4.74213623,  6.29806079,  7.85398536,\n",
       "         9.40990992, 10.96583449, 12.52175906, 14.07768362, 15.63360819,\n",
       "        17.18953275]),\n",
       " <BarContainer object of 10 artists>)"
      ]
     },
     "execution_count": 57,
     "metadata": {},
     "output_type": "execute_result"
    },
    {
     "data": {
      "image/png": "[encoded data removed]",
      "text/plain": [
       "<Figure size 432x288 with 1 Axes>"
      ]
     },
     "metadata": {
      "needs_background": "light"
     },
     "output_type": "display_data"
    }
   ],
   "source": [
    "plt.hist(data_1)"
   ]
  },
  {
   "cell_type": "code",
   "execution_count": 58,
   "metadata": {},
   "outputs": [
    {
     "data": {
      "text/plain": [
       "9.95155459080061"
      ]
     },
     "execution_count": 58,
     "metadata": {},
     "output_type": "execute_result"
    }
   ],
   "source": [
    "np.mean(data_1)"
   ]
  },
  {
   "cell_type": "code",
   "execution_count": 59,
   "metadata": {},
   "outputs": [
    {
     "data": {
      "text/plain": [
       "2.523402208558582"
      ]
     },
     "execution_count": 59,
     "metadata": {},
     "output_type": "execute_result"
    }
   ],
   "source": [
    "np.std(data_1)"
   ]
  },
  {
   "cell_type": "markdown",
   "metadata": {},
   "source": [
    "## Histogram\n",
    "\n",
    "In Lab 2 you are asked to write a histogram function:\n",
    "\n",
    "* User inputs a list of values `x` and optionally `n_bins` which defaults to 10.\n",
    "* If not supplied, find the minimum and maximum (`x_min`,`x_max`) of the values in x.\n",
    "* Determine the bin size (`bin_size`) by dividing the range of the function by the number of bins.\n",
    "* Create an empty list of zeros of size `n_bins`, call it `hist`.\n",
    "* Loop over the values in `x`\n",
    "    * Loop over the values in `hist` with index `i`:\n",
    "        * If x is between `x_min+i*bin_size` and `x_min+(i+1)*bin_size`, increment `hist[i].` \n",
    "        * For efficiency, try to use continue to goto the next bin and data point.\n",
    "* Return `hist` and the list corresponding of the bin edges (i.e. of `x_min+i*bin_size`).    \n",
    "\n",
    "\n",
    "\n"
   ]
  },
  {
   "cell_type": "markdown",
   "metadata": {},
   "source": [
    "## Alternative\n",
    "* User inputs a list of values `x` and optionally `n_bins` which defaults to 10.\n",
    "* If not supplied, find the minimum and maximum (`x_min`,`x_max`) of the values in x.\n",
    "* Create an empty list of zeros of size `n_bins`, call it `hist`.\n",
    "* Create a list of `bin_edges` using `arange`.\n",
    "* Append the `x_max` to bin_edges.\n",
    "* Loop over the values in `x`\n",
    "    * Loop over the values in `hist` with index `i`:\n",
    "        * If x is between `bin_edge[i]` and `bin_edge[i+1]`, increment `hist[i].` \n",
    "        * For efficiency, try to use continue to goto the next bin and data point.\n",
    "* Return `hist` and the list corresponding of the bin edges (i.e. of `x_min+i*bin_size`).    \n",
    "\n"
   ]
  },
  {
   "cell_type": "code",
   "execution_count": 60,
   "metadata": {},
   "outputs": [],
   "source": [
    "def histogram(data, n_bins=10,x_min=None, x_max=None):\n",
    "    if x_min==None:\n",
    "        x_min=min(data)\n",
    "    if x_max==None:\n",
    "        x_max=max(data)\n",
    "        \n",
    "    bin_edges = linspace(x_min,x_max,n_bins)\n",
    "    bin_edges.append(x_max)\n",
    "\n",
    "    hist=[0]*n_bins\n",
    "    \n",
    "    for d in data:\n",
    "        for i,(low_edge,high_edge) in enumerate(zip(bin_edges[:-1],bin_edges[1:])):\n",
    "            if d>=low_edge and d<high_edge:\n",
    "                hist[i]+=1\n",
    "                break\n",
    "                \n",
    "    return hist,bin_edges"
   ]
  },
  {
   "cell_type": "code",
   "execution_count": 61,
   "metadata": {},
   "outputs": [
    {
     "data": {
      "text/plain": [
       "([0, 0, 0, 0, 0, 10, 11, 7, 8, 8],\n",
       " [0, 1.0, 2.0, 3.0, 4.0, 5.0, 6.0, 7.0, 8.0, 9.0, 10])"
      ]
     },
     "execution_count": 61,
     "metadata": {},
     "output_type": "execute_result"
    }
   ],
   "source": [
    "histogram(data_0,10,0,10)"
   ]
  },
  {
   "cell_type": "code",
   "execution_count": 62,
   "metadata": {},
   "outputs": [
    {
     "data": {
      "text/plain": [
       "(array([ 0,  0,  0,  0,  0, 10, 11,  7,  8,  8]),\n",
       " array([ 0.,  1.,  2.,  3.,  4.,  5.,  6.,  7.,  8.,  9., 10.]))"
      ]
     },
     "execution_count": 62,
     "metadata": {},
     "output_type": "execute_result"
    }
   ],
   "source": [
    "np.histogram(data_0,range=(0,10),bins=10)"
   ]
  },
  {
   "cell_type": "markdown",
   "metadata": {},
   "source": [
    "## Accept/Reject\n",
    "\n",
    "Inputs: \n",
    "\n",
    "* function `f`\n",
    "* number of points to generate `n`\n",
    "* range to generate within `x_min`, `x_max`\n",
    "* optional `n_steps`, defaulting to 100, used for finding min/max.\n",
    " \n",
    "Strategy:\n",
    "\n",
    "1. Find `y_min` and `y_max` of function `f` over input range.\n",
    "    1. Create/use new function `find_min_max` analgous to `find_min` above. \n",
    "1. Create output list to hold values.\n",
    "1. Use `while` statement to loop until length of output list is `n`.\n",
    "    1. Draw 2 random numbers from uniform distribution:\n",
    "        1. `x` in range [`x_min`,`x_max`] \n",
    "        1. `y` in range [`y_min`,`y_max`] \n",
    "    1. if `y` < `f(x)`, append `x` to output list.\n",
    "1. Return output list.\n",
    "\n",
    "\n",
    "### Computing Integral\n",
    "\n",
    "The integral should be `(x_max - x_min)*(y_max - y_min)` times the fraction of times that `y` < `f(x)`."
   ]
  },
  {
   "cell_type": "code",
   "execution_count": null,
   "metadata": {},
   "outputs": [],
   "source": []
  }
 ],
 "metadata": {
  "kernelspec": {
   "display_name": "Python 3 (ipykernel)",
   "language": "python",
   "name": "python3"
  },
  "language_info": {
   "codemirror_mode": {
    "name": "ipython",
    "version": 3
   },
   "file_extension": ".py",
   "mimetype": "text/x-python",
   "name": "python",
   "nbconvert_exporter": "python",
   "pygments_lexer": "ipython3",
   "version": "3.9.6"
  }
 },
 "nbformat": 4,
 "nbformat_minor": 4
}
